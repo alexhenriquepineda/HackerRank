{
 "cells": [
  {
   "cell_type": "code",
   "execution_count": 3,
   "metadata": {},
   "outputs": [],
   "source": [
    "from collections import Counter"
   ]
  },
  {
   "cell_type": "code",
   "execution_count": 4,
   "metadata": {},
   "outputs": [],
   "source": [
    "term = \"hbgyvftdrctvybgunimsbhvyuwicjkoddfmbjnevwackm\""
   ]
  },
  {
   "cell_type": "code",
   "execution_count": 5,
   "metadata": {},
   "outputs": [
    {
     "data": {
      "text/plain": [
       "Counter({'b': 4,\n",
       "         'v': 4,\n",
       "         'y': 3,\n",
       "         'd': 3,\n",
       "         'c': 3,\n",
       "         'm': 3,\n",
       "         'h': 2,\n",
       "         'g': 2,\n",
       "         'f': 2,\n",
       "         't': 2,\n",
       "         'u': 2,\n",
       "         'n': 2,\n",
       "         'i': 2,\n",
       "         'w': 2,\n",
       "         'j': 2,\n",
       "         'k': 2,\n",
       "         'r': 1,\n",
       "         's': 1,\n",
       "         'o': 1,\n",
       "         'e': 1,\n",
       "         'a': 1})"
      ]
     },
     "execution_count": 5,
     "metadata": {},
     "output_type": "execute_result"
    }
   ],
   "source": [
    "Counter(term)"
   ]
  },
  {
   "cell_type": "code",
   "execution_count": 8,
   "metadata": {},
   "outputs": [
    {
     "data": {
      "text/plain": [
       "dict_keys(['h', 'b', 'g', 'y', 'v', 'f', 't', 'd', 'r', 'c', 'u', 'n', 'i', 'm', 's', 'w', 'j', 'k', 'o', 'e', 'a'])"
      ]
     },
     "execution_count": 8,
     "metadata": {},
     "output_type": "execute_result"
    }
   ],
   "source": [
    "Counter(term).keys()"
   ]
  },
  {
   "cell_type": "code",
   "execution_count": 9,
   "metadata": {},
   "outputs": [],
   "source": [
    "num_of_shoes = int(input())\n",
    "list_of_sizes = list(map(int, input().split()))\n",
    "num_of_customers = int(input())\n",
    "\n",
    "counter_of_sizes = Counter(list_of_sizes)"
   ]
  },
  {
   "cell_type": "code",
   "execution_count": 11,
   "metadata": {},
   "outputs": [
    {
     "name": "stdout",
     "output_type": "stream",
     "text": [
      "200\n"
     ]
    }
   ],
   "source": [
    "total = 0\n",
    "for customer in range(num_of_customers):\n",
    "    size, price = list(map(int, input().split()))\n",
    "    if size in counter_of_sizes.keys():\n",
    "        if counter_of_sizes[size] > 0:\n",
    "            total = total + price\n",
    "            counter_of_sizes[size] = counter_of_sizes[size] - 1\n",
    "\n",
    "print(total)"
   ]
  },
  {
   "cell_type": "code",
   "execution_count": null,
   "metadata": {},
   "outputs": [],
   "source": []
  }
 ],
 "metadata": {
  "kernelspec": {
   "display_name": "Python 3",
   "language": "python",
   "name": "python3"
  },
  "language_info": {
   "codemirror_mode": {
    "name": "ipython",
    "version": 3
   },
   "file_extension": ".py",
   "mimetype": "text/x-python",
   "name": "python",
   "nbconvert_exporter": "python",
   "pygments_lexer": "ipython3",
   "version": "3.9.6"
  }
 },
 "nbformat": 4,
 "nbformat_minor": 2
}
