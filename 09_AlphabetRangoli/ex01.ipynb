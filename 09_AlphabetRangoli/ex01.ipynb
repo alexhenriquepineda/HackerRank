{
 "cells": [
  {
   "cell_type": "code",
   "execution_count": null,
   "metadata": {},
   "outputs": [],
   "source": [
    "alphabet = \"abcdefghijklmnopqrstuvxyz\""
   ]
  },
  {
   "cell_type": "code",
   "execution_count": 20,
   "metadata": {},
   "outputs": [],
   "source": [
    "size = 12"
   ]
  },
  {
   "cell_type": "code",
   "execution_count": 21,
   "metadata": {},
   "outputs": [],
   "source": [
    "alphabet = [chr(i) for i in range(97, 123)]\n",
    "alphabet = alphabet[:size]"
   ]
  },
  {
   "cell_type": "code",
   "execution_count": 22,
   "metadata": {},
   "outputs": [],
   "source": [
    "indices = list(range(size))"
   ]
  },
  {
   "cell_type": "code",
   "execution_count": 23,
   "metadata": {},
   "outputs": [],
   "source": [
    "indices = indices[: -1] + indices[::-1]"
   ]
  },
  {
   "cell_type": "code",
   "execution_count": 24,
   "metadata": {},
   "outputs": [
    {
     "data": {
      "text/plain": [
       "[0, 1, 2, 3, 4, 5, 6, 7, 8, 9, 10, 11, 10, 9, 8, 7, 6, 5, 4, 3, 2, 1, 0]"
      ]
     },
     "execution_count": 24,
     "metadata": {},
     "output_type": "execute_result"
    }
   ],
   "source": [
    "indices"
   ]
  },
  {
   "cell_type": "code",
   "execution_count": 25,
   "metadata": {},
   "outputs": [
    {
     "name": "stdout",
     "output_type": "stream",
     "text": [
      "----------------------l----------------------\n",
      "--------------------l-k-l--------------------\n",
      "------------------l-k-j-k-l------------------\n",
      "----------------l-k-j-i-j-k-l----------------\n",
      "--------------l-k-j-i-h-i-j-k-l--------------\n",
      "------------l-k-j-i-h-g-h-i-j-k-l------------\n",
      "----------l-k-j-i-h-g-f-g-h-i-j-k-l----------\n",
      "--------l-k-j-i-h-g-f-e-f-g-h-i-j-k-l--------\n",
      "------l-k-j-i-h-g-f-e-d-e-f-g-h-i-j-k-l------\n",
      "----l-k-j-i-h-g-f-e-d-c-d-e-f-g-h-i-j-k-l----\n",
      "--l-k-j-i-h-g-f-e-d-c-b-c-d-e-f-g-h-i-j-k-l--\n",
      "l-k-j-i-h-g-f-e-d-c-b-a-b-c-d-e-f-g-h-i-j-k-l\n",
      "--l-k-j-i-h-g-f-e-d-c-b-c-d-e-f-g-h-i-j-k-l--\n",
      "----l-k-j-i-h-g-f-e-d-c-d-e-f-g-h-i-j-k-l----\n",
      "------l-k-j-i-h-g-f-e-d-e-f-g-h-i-j-k-l------\n",
      "--------l-k-j-i-h-g-f-e-f-g-h-i-j-k-l--------\n",
      "----------l-k-j-i-h-g-f-g-h-i-j-k-l----------\n",
      "------------l-k-j-i-h-g-h-i-j-k-l------------\n",
      "--------------l-k-j-i-h-i-j-k-l--------------\n",
      "----------------l-k-j-i-j-k-l----------------\n",
      "------------------l-k-j-k-l------------------\n",
      "--------------------l-k-l--------------------\n",
      "----------------------l----------------------\n"
     ]
    }
   ],
   "source": [
    "for i in indices:\n",
    "    start_index = i + 1\n",
    "    original = alphabet[-start_index:]\n",
    "    reverse = original[::-1]\n",
    "    row = reverse + original[1:]\n",
    "    row = \"-\".join(row)\n",
    "    width = size * 4 - 3\n",
    "    row = row.center(width, \"-\")\n",
    "    print(row)"
   ]
  },
  {
   "cell_type": "code",
   "execution_count": null,
   "metadata": {},
   "outputs": [],
   "source": []
  }
 ],
 "metadata": {
  "kernelspec": {
   "display_name": "Python 3",
   "language": "python",
   "name": "python3"
  },
  "language_info": {
   "codemirror_mode": {
    "name": "ipython",
    "version": 3
   },
   "file_extension": ".py",
   "mimetype": "text/x-python",
   "name": "python",
   "nbconvert_exporter": "python",
   "pygments_lexer": "ipython3",
   "version": "3.9.6"
  }
 },
 "nbformat": 4,
 "nbformat_minor": 2
}
